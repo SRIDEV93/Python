{
  "nbformat": 4,
  "nbformat_minor": 0,
  "metadata": {
    "colab": {
      "name": "Python Standard Libraries.ipynb",
      "provenance": [],
      "authorship_tag": "ABX9TyNq7xSc3roT6b5F3IEtdgkP",
      "include_colab_link": true
    },
    "kernelspec": {
      "name": "python3",
      "display_name": "Python 3"
    },
    "language_info": {
      "name": "python"
    }
  },
  "cells": [
    {
      "cell_type": "markdown",
      "metadata": {
        "id": "view-in-github",
        "colab_type": "text"
      },
      "source": [
        "<a href=\"https://colab.research.google.com/github/SRIDEV93/Python/blob/main/Python_Standard_Libraries.ipynb\" target=\"_parent\"><img src=\"https://colab.research.google.com/assets/colab-badge.svg\" alt=\"Open In Colab\"/></a>"
      ]
    },
    {
      "cell_type": "code",
      "execution_count": 1,
      "metadata": {
        "id": "W39F1UNCj-ZB"
      },
      "outputs": [],
      "source": [
        "import datetime"
      ]
    },
    {
      "cell_type": "code",
      "source": [
        "d1 = datetime.date(2021,1,1)\n",
        "d2= datetime.date(2022,7,31)\n",
        "d3 = datetime.date(1993,5,30)\n",
        "\n",
        "print(d1)\n",
        "print(d2)\n",
        "print(d3)"
      ],
      "metadata": {
        "colab": {
          "base_uri": "https://localhost:8080/"
        },
        "id": "Cmmba5FtkABB",
        "outputId": "abd85cca-a86f-461a-9fb2-a36c3e99b644"
      },
      "execution_count": 2,
      "outputs": [
        {
          "output_type": "stream",
          "name": "stdout",
          "text": [
            "2021-01-01\n",
            "2022-07-31\n",
            "1993-05-30\n"
          ]
        }
      ]
    },
    {
      "cell_type": "code",
      "source": [
        "t1 = datetime.time(12,00,00)\n",
        "t2 = datetime.time(6,30,00)\n",
        "t3 = datetime.time(9,15,00)\n",
        "\n",
        "print(t1)\n",
        "print(t2)\n",
        "print(t3)\n"
      ],
      "metadata": {
        "colab": {
          "base_uri": "https://localhost:8080/"
        },
        "id": "hVaIxBk_kAEu",
        "outputId": "45c90787-3c6a-4b2c-b05c-e19798da265c"
      },
      "execution_count": 3,
      "outputs": [
        {
          "output_type": "stream",
          "name": "stdout",
          "text": [
            "12:00:00\n",
            "06:30:00\n",
            "09:15:00\n"
          ]
        }
      ]
    },
    {
      "cell_type": "code",
      "source": [
        "dt1 = datetime.datetime(2020,7,20,11,30,00)\n",
        "dt2 = datetime.datetime(1990,3,10,12,00,00)\n",
        "dt3 = datetime.datetime(2021,1,1,00,00,00)\n",
        "\n",
        "print(dt1)\n",
        "print(dt2)\n",
        "print(dt3)"
      ],
      "metadata": {
        "colab": {
          "base_uri": "https://localhost:8080/"
        },
        "id": "G5YNDbnkkAKD",
        "outputId": "7cc5061c-2e33-4557-c837-557182447bfa"
      },
      "execution_count": 4,
      "outputs": [
        {
          "output_type": "stream",
          "name": "stdout",
          "text": [
            "2020-07-20 11:30:00\n",
            "1990-03-10 12:00:00\n",
            "2021-01-01 00:00:00\n"
          ]
        }
      ]
    },
    {
      "cell_type": "code",
      "source": [
        "d1 = datetime.date(2020,7,21)\n",
        "d2 = datetime.date(2020,12,31)\n",
        "difference = (d2 - d1).days\n",
        "print(f'Number of days: {difference}')"
      ],
      "metadata": {
        "colab": {
          "base_uri": "https://localhost:8080/"
        },
        "id": "BywEDILCnh_I",
        "outputId": "f6999f9b-f90b-4df4-a908-bc4e14bda80c"
      },
      "execution_count": 5,
      "outputs": [
        {
          "output_type": "stream",
          "name": "stdout",
          "text": [
            "Number of days: 163\n"
          ]
        }
      ]
    },
    {
      "cell_type": "code",
      "source": [
        "dt1 = datetime.datetime(2020,7,20,11,30,00)\n",
        "dt2 = datetime.datetime(2021,2,20,10,25,00)\n",
        "diff = dt2-dt1\n",
        "print(diff)"
      ],
      "metadata": {
        "colab": {
          "base_uri": "https://localhost:8080/"
        },
        "id": "4BJiWjthofj4",
        "outputId": "bbd529d4-c48e-4129-f543-0f203bd6420a"
      },
      "execution_count": 6,
      "outputs": [
        {
          "output_type": "stream",
          "name": "stdout",
          "text": [
            "214 days, 22:55:00\n"
          ]
        }
      ]
    },
    {
      "cell_type": "code",
      "source": [
        "help(datetime.datetime.strftime)"
      ],
      "metadata": {
        "colab": {
          "base_uri": "https://localhost:8080/"
        },
        "id": "cW-1HXNewViy",
        "outputId": "27d3d234-063c-4d0b-b512-e8be0cef5edc"
      },
      "execution_count": 7,
      "outputs": [
        {
          "output_type": "stream",
          "name": "stdout",
          "text": [
            "Help on method_descriptor:\n",
            "\n",
            "strftime(...)\n",
            "    format -> strftime() style string.\n",
            "\n"
          ]
        }
      ]
    },
    {
      "cell_type": "code",
      "source": [
        "from datetime import datetime\n",
        "dt1 = datetime(2021,4,20,11,30,00)\n",
        "print(dt1.strftime('%Y-%m-%d'))\n"
      ],
      "metadata": {
        "colab": {
          "base_uri": "https://localhost:8080/"
        },
        "id": "yZGkDsA40rc6",
        "outputId": "f69be35f-b8ef-4981-a78c-2c85c0d4111a"
      },
      "execution_count": 8,
      "outputs": [
        {
          "output_type": "stream",
          "name": "stdout",
          "text": [
            "2021-04-20\n"
          ]
        }
      ]
    },
    {
      "cell_type": "code",
      "source": [
        "print(dt1.strftime('%d-%m-%Y'))"
      ],
      "metadata": {
        "colab": {
          "base_uri": "https://localhost:8080/"
        },
        "id": "EGLpmUf-1JUQ",
        "outputId": "3e426e20-acf1-41eb-d206-aa59bf787520"
      },
      "execution_count": 9,
      "outputs": [
        {
          "output_type": "stream",
          "name": "stdout",
          "text": [
            "20-04-2021\n"
          ]
        }
      ]
    },
    {
      "cell_type": "code",
      "source": [
        "print(dt1.strftime('%m-%Y'))"
      ],
      "metadata": {
        "colab": {
          "base_uri": "https://localhost:8080/"
        },
        "id": "6ZgpqAOa1S16",
        "outputId": "e99cb6a2-f077-466d-814b-c74e73070144"
      },
      "execution_count": 10,
      "outputs": [
        {
          "output_type": "stream",
          "name": "stdout",
          "text": [
            "04-2021\n"
          ]
        }
      ]
    },
    {
      "cell_type": "code",
      "source": [
        "print(dt1.strftime('%B-%Y'))"
      ],
      "metadata": {
        "colab": {
          "base_uri": "https://localhost:8080/"
        },
        "id": "guz4rUij1dXz",
        "outputId": "49a23fe3-60ee-4572-b8af-3c75152a451f"
      },
      "execution_count": 11,
      "outputs": [
        {
          "output_type": "stream",
          "name": "stdout",
          "text": [
            "April-2021\n"
          ]
        }
      ]
    },
    {
      "cell_type": "code",
      "source": [
        "print(dt1.strftime('%d %B, %Y'))"
      ],
      "metadata": {
        "colab": {
          "base_uri": "https://localhost:8080/"
        },
        "id": "fJpkt2iy1qaR",
        "outputId": "4b7a9ef4-4638-4d67-c3fb-12b8a4a2e3ae"
      },
      "execution_count": 12,
      "outputs": [
        {
          "output_type": "stream",
          "name": "stdout",
          "text": [
            "20 April, 2021\n"
          ]
        }
      ]
    },
    {
      "cell_type": "code",
      "source": [
        "print(dt1.strftime('%Y-%m-%d %H:%M:%S'))"
      ],
      "metadata": {
        "colab": {
          "base_uri": "https://localhost:8080/"
        },
        "id": "Wnztdp7Y11zn",
        "outputId": "13629ac7-22b4-48fb-9886-b41b70f43a48"
      },
      "execution_count": 13,
      "outputs": [
        {
          "output_type": "stream",
          "name": "stdout",
          "text": [
            "2021-04-20 11:30:00\n"
          ]
        }
      ]
    },
    {
      "cell_type": "code",
      "source": [
        "print(dt1.strftime('%m/%d/%y %H:%M:%S'))"
      ],
      "metadata": {
        "colab": {
          "base_uri": "https://localhost:8080/"
        },
        "id": "v6L7lRV3111B",
        "outputId": "911c3c12-22c3-4981-ade1-b4b79031619e"
      },
      "execution_count": 14,
      "outputs": [
        {
          "output_type": "stream",
          "name": "stdout",
          "text": [
            "04/20/21 11:30:00\n"
          ]
        }
      ]
    },
    {
      "cell_type": "code",
      "source": [
        "print(dt1.strftime('%d(%a) %B %Y'))"
      ],
      "metadata": {
        "colab": {
          "base_uri": "https://localhost:8080/"
        },
        "id": "_NiaGiV11147",
        "outputId": "bd973b3e-6ba6-457f-a0ad-6cc63b5e6796"
      },
      "execution_count": 15,
      "outputs": [
        {
          "output_type": "stream",
          "name": "stdout",
          "text": [
            "20(Tue) April 2021\n"
          ]
        }
      ]
    },
    {
      "cell_type": "code",
      "source": [
        "help(datetime.strptime)"
      ],
      "metadata": {
        "colab": {
          "base_uri": "https://localhost:8080/"
        },
        "id": "w-sG6xZm7xDc",
        "outputId": "04190ba1-66a3-4f4c-de4a-3e930944ef85"
      },
      "execution_count": 16,
      "outputs": [
        {
          "output_type": "stream",
          "name": "stdout",
          "text": [
            "Help on built-in function strptime:\n",
            "\n",
            "strptime(...) method of builtins.type instance\n",
            "    string, format -> new datetime parsed from a string (like time.strptime()).\n",
            "\n"
          ]
        }
      ]
    },
    {
      "cell_type": "code",
      "source": [
        "from datetime import datetime\n",
        "\n",
        "date_str_1 = '3 March 1995'\n",
        "date_str_2 = '3/9/1995'\n",
        "date_str_3 = '21-07-2021'\n",
        "\n",
        "dt1 = datetime.strptime(date_str_1, \"%d %B %Y\")\n",
        "dt2 = datetime.strptime(date_str_2, '%d/%m/%Y')\n",
        "dt3 = datetime.strptime(date_str_3, \"%d-%m-%Y\")\n",
        "\n",
        "print(dt1)\n",
        "print(dt2)\n",
        "print(dt3)\n"
      ],
      "metadata": {
        "colab": {
          "base_uri": "https://localhost:8080/"
        },
        "id": "B91GTANO116e",
        "outputId": "89e61498-8550-4119-f537-a9b7cdfbcd65"
      },
      "execution_count": 17,
      "outputs": [
        {
          "output_type": "stream",
          "name": "stdout",
          "text": [
            "1995-03-03 00:00:00\n",
            "1995-09-03 00:00:00\n",
            "2021-07-21 00:00:00\n"
          ]
        }
      ]
    },
    {
      "cell_type": "code",
      "source": [
        "import datetime\n",
        "today = datetime.date.today()\n",
        "end_of_year = datetime.date(today.year,12,31)\n",
        "Number_of_days = (end_of_year - today).days\n",
        "print(f\"Number of until the end of the year: {Number_of_days}\")"
      ],
      "metadata": {
        "colab": {
          "base_uri": "https://localhost:8080/"
        },
        "id": "IbPTDdWl11-s",
        "outputId": "b6fc22de-c5dd-4df2-a376-1c2d803a743f"
      },
      "execution_count": 18,
      "outputs": [
        {
          "output_type": "stream",
          "name": "stdout",
          "text": [
            "Number of until the end of the year: 158\n"
          ]
        }
      ]
    },
    {
      "cell_type": "code",
      "source": [
        "import datetime\n",
        "today = datetime.datetime.today()\n",
        "end_of_year = datetime.datetime(today.year,12,31)\n",
        "diff = (end_of_year - today)\n",
        "print(f\"Until the end of the year {diff}\")"
      ],
      "metadata": {
        "colab": {
          "base_uri": "https://localhost:8080/"
        },
        "id": "WWv9tt5n12AG",
        "outputId": "3d60f787-6c31-43ef-ed22-baf4e9ba03f2"
      },
      "execution_count": 19,
      "outputs": [
        {
          "output_type": "stream",
          "name": "stdout",
          "text": [
            "Until the end of the year 157 days, 19:54:56.050822\n"
          ]
        }
      ]
    },
    {
      "cell_type": "code",
      "source": [
        "import datetime\n",
        "\n",
        "now = datetime.datetime.now()\n",
        "end_of_year = datetime.datetime(now.year +1, 1 ,1)\n",
        "diff = end_of_year - now\n",
        "print(f'Until the end of the year: {diff}')"
      ],
      "metadata": {
        "colab": {
          "base_uri": "https://localhost:8080/"
        },
        "id": "p1c6im4n12EB",
        "outputId": "5afb3c62-b607-4de6-b83b-73a9563f9fcb"
      },
      "execution_count": 20,
      "outputs": [
        {
          "output_type": "stream",
          "name": "stdout",
          "text": [
            "Until the end of the year: 158 days, 19:54:56.037141\n"
          ]
        }
      ]
    },
    {
      "cell_type": "code",
      "source": [
        "import datetime\n",
        "\n",
        "dt = datetime.datetime(2020,1,1)\n",
        "\n",
        "print(dt + datetime.timedelta(days = 7))"
      ],
      "metadata": {
        "colab": {
          "base_uri": "https://localhost:8080/"
        },
        "id": "jfHJbE_z12G2",
        "outputId": "c50cb593-d6df-4df2-e5b6-c09dd7f0d290"
      },
      "execution_count": 21,
      "outputs": [
        {
          "output_type": "stream",
          "name": "stdout",
          "text": [
            "2020-01-08 00:00:00\n"
          ]
        }
      ]
    },
    {
      "cell_type": "code",
      "source": [
        "dt = datetime.datetime(2020,1,1)\n",
        "\n",
        "print(dt + datetime.timedelta(days=30))\n",
        "print(dt + datetime.timedelta(hours =30))\n",
        "print(dt + datetime.timedelta(minutes= 15))"
      ],
      "metadata": {
        "colab": {
          "base_uri": "https://localhost:8080/"
        },
        "id": "OJtIb9waJuL2",
        "outputId": "f0bc4b3d-d2b0-45ec-aa64-d29932d21f20"
      },
      "execution_count": 22,
      "outputs": [
        {
          "output_type": "stream",
          "name": "stdout",
          "text": [
            "2020-01-31 00:00:00\n",
            "2020-01-02 06:00:00\n",
            "2020-01-01 00:15:00\n"
          ]
        }
      ]
    },
    {
      "cell_type": "code",
      "source": [
        "import datetime\n",
        "\n",
        "dt = datetime.datetime(2020,1,1)\n",
        "delta = datetime.timedelta(hours = 8)\n",
        "\n",
        "dates = [dt + i * delta for i in range(12)]\n",
        "\n",
        "for date in dates:\n",
        "  print(date)"
      ],
      "metadata": {
        "colab": {
          "base_uri": "https://localhost:8080/"
        },
        "id": "LQ7NVUITJuc0",
        "outputId": "c9c9a990-7b05-4ac6-a9ab-d50122c626a8"
      },
      "execution_count": 23,
      "outputs": [
        {
          "output_type": "stream",
          "name": "stdout",
          "text": [
            "2020-01-01 00:00:00\n",
            "2020-01-01 08:00:00\n",
            "2020-01-01 16:00:00\n",
            "2020-01-02 00:00:00\n",
            "2020-01-02 08:00:00\n",
            "2020-01-02 16:00:00\n",
            "2020-01-03 00:00:00\n",
            "2020-01-03 08:00:00\n",
            "2020-01-03 16:00:00\n",
            "2020-01-04 00:00:00\n",
            "2020-01-04 08:00:00\n",
            "2020-01-04 16:00:00\n"
          ]
        }
      ]
    },
    {
      "cell_type": "code",
      "source": [
        "import datetime\n",
        "\n",
        "rate = 0.04\n",
        "pv = 1000\n",
        "\n",
        "daily_rate = rate/365\n",
        "daily_rate"
      ],
      "metadata": {
        "colab": {
          "base_uri": "https://localhost:8080/"
        },
        "id": "2sqF7SCTVuIK",
        "outputId": "384ce3fe-6e68-4557-9ad5-61382fd5e767"
      },
      "execution_count": 24,
      "outputs": [
        {
          "output_type": "execute_result",
          "data": {
            "text/plain": [
              "0.00010958904109589041"
            ]
          },
          "metadata": {},
          "execution_count": 24
        }
      ]
    },
    {
      "cell_type": "code",
      "source": [
        "d1 = datetime.date(2021,7,1)\n",
        "d2 = datetime.date(2021,12,31)\n",
        "duration = d2-d1\n",
        "\n",
        "fv = pv * (1 + daily_rate)** duration.days\n",
        "print(f'future value: $ {fv:.2f}')"
      ],
      "metadata": {
        "colab": {
          "base_uri": "https://localhost:8080/"
        },
        "id": "gOWUE2PuWdHI",
        "outputId": "e369177d-7551-4de5-d3e7-8556d2e24022"
      },
      "execution_count": 25,
      "outputs": [
        {
          "output_type": "stream",
          "name": "stdout",
          "text": [
            "future value: $ 1020.26\n"
          ]
        }
      ]
    },
    {
      "cell_type": "code",
      "source": [
        "import os\n",
        "help(os.getcwd)"
      ],
      "metadata": {
        "id": "RCUnMkY0XCO-",
        "colab": {
          "base_uri": "https://localhost:8080/"
        },
        "outputId": "a739f715-6903-4c64-d0cc-175987b33848"
      },
      "execution_count": 26,
      "outputs": [
        {
          "output_type": "stream",
          "name": "stdout",
          "text": [
            "Help on built-in function getcwd in module posix:\n",
            "\n",
            "getcwd()\n",
            "    Return a unicode string representing the current working directory.\n",
            "\n"
          ]
        }
      ]
    },
    {
      "cell_type": "code",
      "source": [
        "import os\n",
        "print(os.getcwd())"
      ],
      "metadata": {
        "colab": {
          "base_uri": "https://localhost:8080/"
        },
        "id": "8XZ3_M-Q2bca",
        "outputId": "decee8d6-efde-4b91-cf3d-a4cf810c90c3"
      },
      "execution_count": 27,
      "outputs": [
        {
          "output_type": "stream",
          "name": "stdout",
          "text": [
            "/content\n"
          ]
        }
      ]
    },
    {
      "cell_type": "code",
      "source": [
        "print(os.listdir())"
      ],
      "metadata": {
        "colab": {
          "base_uri": "https://localhost:8080/"
        },
        "id": "eZGDlRjR2bd_",
        "outputId": "4d734651-5544-4e65-9201-7181bb7c8e15"
      },
      "execution_count": 28,
      "outputs": [
        {
          "output_type": "stream",
          "name": "stdout",
          "text": [
            "['.config', 'sample_data']\n"
          ]
        }
      ]
    },
    {
      "cell_type": "code",
      "source": [
        "import os\n",
        "\n",
        "names = sorted([name for name in os.listdir() if name.startswith('s')])\n",
        "\n",
        "print(names)\n"
      ],
      "metadata": {
        "colab": {
          "base_uri": "https://localhost:8080/"
        },
        "id": "3azZhz2A2biC",
        "outputId": "99e4181c-64fd-4542-da4e-02a6dcc3e551"
      },
      "execution_count": 29,
      "outputs": [
        {
          "output_type": "stream",
          "name": "stdout",
          "text": [
            "['sample_data']\n"
          ]
        }
      ]
    },
    {
      "cell_type": "code",
      "source": [
        "import os\n",
        "\n",
        "os.mkdir('images')\n",
        "os.chdir('images')\n",
        "print(os.getcwd())"
      ],
      "metadata": {
        "colab": {
          "base_uri": "https://localhost:8080/"
        },
        "id": "4rYt8Xox2btL",
        "outputId": "d513e808-aba1-4d7e-d672-33b206f7db53"
      },
      "execution_count": 30,
      "outputs": [
        {
          "output_type": "stream",
          "name": "stdout",
          "text": [
            "/content/images\n"
          ]
        }
      ]
    },
    {
      "cell_type": "code",
      "source": [
        "help(os.path.exists)"
      ],
      "metadata": {
        "colab": {
          "base_uri": "https://localhost:8080/"
        },
        "id": "pFlPG5Ys2d9S",
        "outputId": "c1417478-b888-4912-8fb9-c5b977b764dd"
      },
      "execution_count": 31,
      "outputs": [
        {
          "output_type": "stream",
          "name": "stdout",
          "text": [
            "Help on function exists in module genericpath:\n",
            "\n",
            "exists(path)\n",
            "    Test whether a path exists.  Returns False for broken symbolic links\n",
            "\n"
          ]
        }
      ]
    },
    {
      "cell_type": "code",
      "source": [
        "import os\n",
        "\n",
        "base_dir = 'images'\n",
        "\n",
        "png_dir = os.path.join(base_dir,'images_png')\n",
        "jpg_dir = os.path.join(base_dir,'images_jpg')\n",
        "\n",
        "if not os.path.exists(base_dir):\n",
        "  os.mkdir(base_dir)\n",
        "\n",
        "if not os.path.exists(png_dir):\n",
        "  os.mkdir(png_dir)\n",
        "\n",
        "if not os.path.exists(jpg_dir):\n",
        "  os.mkdir(jpg_dir)\n",
        "\n",
        "for root, dirs, files in os.walk(base_dir):\n",
        "  print(root)"
      ],
      "metadata": {
        "colab": {
          "base_uri": "https://localhost:8080/"
        },
        "id": "J23SOXLU2eHf",
        "outputId": "9ee40765-adc2-4282-fac2-65a69f56b9b5"
      },
      "execution_count": 32,
      "outputs": [
        {
          "output_type": "stream",
          "name": "stdout",
          "text": [
            "images\n",
            "images/images_jpg\n",
            "images/images_png\n"
          ]
        }
      ]
    },
    {
      "cell_type": "code",
      "source": [
        "import os\n",
        "import random\n",
        "\n",
        "random.seed(30)\n",
        "\n",
        "images = [ \n",
        "          f\"{str(i).zfill(3)}_image.{random.choice(['.png','.jpg'])}\"\n",
        "          for i in range(1,20)\n",
        "]\n",
        "\n",
        "base_dir = 'images'\n",
        "\n",
        "if not os.path.exists(base_dir):\n",
        "  os.path.mkdir(base_dir)\n",
        "\n",
        "png_dir = os.path.join(base_dir,'images_png')\n",
        "jpg_dir = os.path.join(base_dir,'images_jpg')\n",
        "\n",
        "if not os.path.exists(png_dir):\n",
        "  os.path.mkdir(png_dir)\n",
        "\n",
        "if not os.path.exists(jpg_dir):\n",
        "  os.path.mkdir(jpg_dir)\n",
        "\n",
        "for image in images:\n",
        "  if image.endswith('.png'):\n",
        "    open(os.path.join(png_dir,image),'w').close()\n",
        "  elif image.endswith('.jpg'):\n",
        "    open(os.path.join(jpg_dir,image),'w').close()\n",
        "\n",
        "for root, dirs, files in os.walk(base_dir):\n",
        "  print(root)\n",
        "\n",
        "  for file in sorted(files):\n",
        "    print(f'\\t{file}')\n",
        "\n"
      ],
      "metadata": {
        "colab": {
          "base_uri": "https://localhost:8080/"
        },
        "id": "5MDYLVt2hyDz",
        "outputId": "a3e94c3b-0de2-4620-e389-21c7104e3936"
      },
      "execution_count": 36,
      "outputs": [
        {
          "output_type": "stream",
          "name": "stdout",
          "text": [
            "images\n",
            "images/images_jpg\n",
            "\t001_image..jpg\n",
            "\t004_image..jpg\n",
            "\t006_image..jpg\n",
            "\t007_image..jpg\n",
            "\t010_image..jpg\n",
            "\t016_image..jpg\n",
            "\t017_image..jpg\n",
            "\t019_image..jpg\n",
            "images/images_png\n",
            "\t002_image..png\n",
            "\t003_image..png\n",
            "\t005_image..png\n",
            "\t008_image..png\n",
            "\t009_image..png\n",
            "\t011_image..png\n",
            "\t012_image..png\n",
            "\t013_image..png\n",
            "\t014_image..png\n",
            "\t015_image..png\n",
            "\t018_image..png\n"
          ]
        }
      ]
    }
  ]
}