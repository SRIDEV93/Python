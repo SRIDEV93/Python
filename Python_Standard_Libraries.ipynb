{
  "nbformat": 4,
  "nbformat_minor": 0,
  "metadata": {
    "colab": {
      "name": "Python Standard Libraries.ipynb",
      "provenance": [],
      "authorship_tag": "ABX9TyMhDXACd7tUDlsHv6YwlSG+",
      "include_colab_link": true
    },
    "kernelspec": {
      "name": "python3",
      "display_name": "Python 3"
    },
    "language_info": {
      "name": "python"
    }
  },
  "cells": [
    {
      "cell_type": "markdown",
      "metadata": {
        "id": "view-in-github",
        "colab_type": "text"
      },
      "source": [
        "<a href=\"https://colab.research.google.com/github/SRIDEV93/Python/blob/main/Python_Standard_Libraries.ipynb\" target=\"_parent\"><img src=\"https://colab.research.google.com/assets/colab-badge.svg\" alt=\"Open In Colab\"/></a>"
      ]
    },
    {
      "cell_type": "code",
      "execution_count": 39,
      "metadata": {
        "id": "W39F1UNCj-ZB"
      },
      "outputs": [],
      "source": [
        "import datetime"
      ]
    },
    {
      "cell_type": "code",
      "source": [
        "d1 = datetime.date(2021,1,1)\n",
        "d2= datetime.date(2022,7,31)\n",
        "d3 = datetime.date(1993,5,30)\n",
        "\n",
        "print(d1)\n",
        "print(d2)\n",
        "print(d3)"
      ],
      "metadata": {
        "colab": {
          "base_uri": "https://localhost:8080/"
        },
        "id": "Cmmba5FtkABB",
        "outputId": "9c117db7-1f1c-423d-f3c6-fef9800a7398"
      },
      "execution_count": 40,
      "outputs": [
        {
          "output_type": "stream",
          "name": "stdout",
          "text": [
            "2021-01-01\n",
            "2022-07-31\n",
            "1993-05-30\n"
          ]
        }
      ]
    },
    {
      "cell_type": "code",
      "source": [
        "t1 = datetime.time(12,00,00)\n",
        "t2 = datetime.time(6,30,00)\n",
        "t3 = datetime.time(9,15,00)\n",
        "\n",
        "print(t1)\n",
        "print(t2)\n",
        "print(t3)\n"
      ],
      "metadata": {
        "colab": {
          "base_uri": "https://localhost:8080/"
        },
        "id": "hVaIxBk_kAEu",
        "outputId": "490470ae-d056-458d-dbda-bfec956eef38"
      },
      "execution_count": 41,
      "outputs": [
        {
          "output_type": "stream",
          "name": "stdout",
          "text": [
            "12:00:00\n",
            "06:30:00\n",
            "09:15:00\n"
          ]
        }
      ]
    },
    {
      "cell_type": "code",
      "source": [
        "dt1 = datetime.datetime(2020,7,20,11,30,00)\n",
        "dt2 = datetime.datetime(1990,3,10,12,00,00)\n",
        "dt3 = datetime.datetime(2021,1,1,00,00,00)\n",
        "\n",
        "print(dt1)\n",
        "print(dt2)\n",
        "print(dt3)"
      ],
      "metadata": {
        "colab": {
          "base_uri": "https://localhost:8080/"
        },
        "id": "G5YNDbnkkAKD",
        "outputId": "bf2d0e7e-2923-4542-b356-a867516aede2"
      },
      "execution_count": 42,
      "outputs": [
        {
          "output_type": "stream",
          "name": "stdout",
          "text": [
            "2020-07-20 11:30:00\n",
            "1990-03-10 12:00:00\n",
            "2021-01-01 00:00:00\n"
          ]
        }
      ]
    },
    {
      "cell_type": "code",
      "source": [
        "d1 = datetime.date(2020,7,21)\n",
        "d2 = datetime.date(2020,12,31)\n",
        "difference = (d2 - d1).days\n",
        "print(f'Number of days: {difference}')"
      ],
      "metadata": {
        "colab": {
          "base_uri": "https://localhost:8080/"
        },
        "id": "BywEDILCnh_I",
        "outputId": "9cfa3ff2-16fc-4529-b652-2702bbdf8cb4"
      },
      "execution_count": 43,
      "outputs": [
        {
          "output_type": "stream",
          "name": "stdout",
          "text": [
            "Number of days: 163\n"
          ]
        }
      ]
    },
    {
      "cell_type": "code",
      "source": [
        "dt1 = datetime.datetime(2020,7,20,11,30,00)\n",
        "dt2 = datetime.datetime(2021,2,20,10,25,00)\n",
        "diff = dt2-dt1\n",
        "print(diff)"
      ],
      "metadata": {
        "colab": {
          "base_uri": "https://localhost:8080/"
        },
        "id": "4BJiWjthofj4",
        "outputId": "3112f547-fe4a-4eff-fde4-c8c71023db46"
      },
      "execution_count": 44,
      "outputs": [
        {
          "output_type": "stream",
          "name": "stdout",
          "text": [
            "214 days, 22:55:00\n"
          ]
        }
      ]
    },
    {
      "cell_type": "code",
      "source": [
        "help(datetime.datetime.strftime)"
      ],
      "metadata": {
        "colab": {
          "base_uri": "https://localhost:8080/"
        },
        "id": "cW-1HXNewViy",
        "outputId": "97083b22-e8e3-4a89-d7a1-085326e65925"
      },
      "execution_count": 45,
      "outputs": [
        {
          "output_type": "stream",
          "name": "stdout",
          "text": [
            "Help on method_descriptor:\n",
            "\n",
            "strftime(...)\n",
            "    format -> strftime() style string.\n",
            "\n"
          ]
        }
      ]
    },
    {
      "cell_type": "code",
      "source": [
        "from datetime import datetime\n",
        "dt1 = datetime(2021,4,20,11,30,00)\n",
        "print(dt1.strftime('%Y-%m-%d'))\n"
      ],
      "metadata": {
        "colab": {
          "base_uri": "https://localhost:8080/"
        },
        "id": "yZGkDsA40rc6",
        "outputId": "a58e734a-9054-4881-fb02-c726bd12863c"
      },
      "execution_count": 46,
      "outputs": [
        {
          "output_type": "stream",
          "name": "stdout",
          "text": [
            "2021-04-20\n"
          ]
        }
      ]
    },
    {
      "cell_type": "code",
      "source": [
        "print(dt1.strftime('%d-%m-%Y'))"
      ],
      "metadata": {
        "colab": {
          "base_uri": "https://localhost:8080/"
        },
        "id": "EGLpmUf-1JUQ",
        "outputId": "97dfc27a-5561-4c6e-e685-055d2fcdfacc"
      },
      "execution_count": 47,
      "outputs": [
        {
          "output_type": "stream",
          "name": "stdout",
          "text": [
            "20-04-2021\n"
          ]
        }
      ]
    },
    {
      "cell_type": "code",
      "source": [
        "print(dt1.strftime('%m-%Y'))"
      ],
      "metadata": {
        "colab": {
          "base_uri": "https://localhost:8080/"
        },
        "id": "6ZgpqAOa1S16",
        "outputId": "2a6e5d0c-a593-40af-cbb9-6ca34b161e67"
      },
      "execution_count": 48,
      "outputs": [
        {
          "output_type": "stream",
          "name": "stdout",
          "text": [
            "04-2021\n"
          ]
        }
      ]
    },
    {
      "cell_type": "code",
      "source": [
        "print(dt1.strftime('%B-%Y'))"
      ],
      "metadata": {
        "colab": {
          "base_uri": "https://localhost:8080/"
        },
        "id": "guz4rUij1dXz",
        "outputId": "e4328616-2132-4487-9990-ad4b0dd9473c"
      },
      "execution_count": 49,
      "outputs": [
        {
          "output_type": "stream",
          "name": "stdout",
          "text": [
            "April-2021\n"
          ]
        }
      ]
    },
    {
      "cell_type": "code",
      "source": [
        "print(dt1.strftime('%d %B, %Y'))"
      ],
      "metadata": {
        "colab": {
          "base_uri": "https://localhost:8080/"
        },
        "id": "fJpkt2iy1qaR",
        "outputId": "cfbb6fb0-f3b8-40ef-d4b5-1030874f0bb1"
      },
      "execution_count": 50,
      "outputs": [
        {
          "output_type": "stream",
          "name": "stdout",
          "text": [
            "20 April, 2021\n"
          ]
        }
      ]
    },
    {
      "cell_type": "code",
      "source": [
        "print(dt1.strftime('%Y-%m-%d %H:%M:%S'))"
      ],
      "metadata": {
        "colab": {
          "base_uri": "https://localhost:8080/"
        },
        "id": "Wnztdp7Y11zn",
        "outputId": "36aa3366-d00e-4764-9aa1-9f7a47d588ad"
      },
      "execution_count": 51,
      "outputs": [
        {
          "output_type": "stream",
          "name": "stdout",
          "text": [
            "2021-04-20 11:30:00\n"
          ]
        }
      ]
    },
    {
      "cell_type": "code",
      "source": [
        "print(dt1.strftime('%m/%d/%y %H:%M:%S'))"
      ],
      "metadata": {
        "colab": {
          "base_uri": "https://localhost:8080/"
        },
        "id": "v6L7lRV3111B",
        "outputId": "516a95a2-aafd-4ae1-b276-5d766e7972e6"
      },
      "execution_count": 52,
      "outputs": [
        {
          "output_type": "stream",
          "name": "stdout",
          "text": [
            "04/20/21 11:30:00\n"
          ]
        }
      ]
    },
    {
      "cell_type": "code",
      "source": [
        "print(dt1.strftime('%d(%a) %B %Y'))"
      ],
      "metadata": {
        "colab": {
          "base_uri": "https://localhost:8080/"
        },
        "id": "_NiaGiV11147",
        "outputId": "cb2141a8-ba27-4daf-95c2-e92099c31a77"
      },
      "execution_count": 53,
      "outputs": [
        {
          "output_type": "stream",
          "name": "stdout",
          "text": [
            "20(Tue) April 2021\n"
          ]
        }
      ]
    },
    {
      "cell_type": "code",
      "source": [
        "help(datetime.strptime)"
      ],
      "metadata": {
        "colab": {
          "base_uri": "https://localhost:8080/"
        },
        "id": "w-sG6xZm7xDc",
        "outputId": "bbb1cc14-c299-4b25-b3da-b3290894ef07"
      },
      "execution_count": 54,
      "outputs": [
        {
          "output_type": "stream",
          "name": "stdout",
          "text": [
            "Help on built-in function strptime:\n",
            "\n",
            "strptime(...) method of builtins.type instance\n",
            "    string, format -> new datetime parsed from a string (like time.strptime()).\n",
            "\n"
          ]
        }
      ]
    },
    {
      "cell_type": "code",
      "source": [
        "from datetime import datetime\n",
        "\n",
        "date_str_1 = '3 March 1995'\n",
        "date_str_2 = '3/9/1995'\n",
        "date_str_3 = '21-07-2021'\n",
        "\n",
        "dt1 = datetime.strptime(date_str_1, \"%d %B %Y\")\n",
        "dt2 = datetime.strptime(date_str_2, '%d/%m/%Y')\n",
        "dt3 = datetime.strptime(date_str_3, \"%d-%m-%Y\")\n",
        "\n",
        "print(dt1)\n",
        "print(dt2)\n",
        "print(dt3)\n"
      ],
      "metadata": {
        "colab": {
          "base_uri": "https://localhost:8080/"
        },
        "id": "B91GTANO116e",
        "outputId": "3e7a80b8-d07b-48af-b541-41730f6cdc1e"
      },
      "execution_count": 55,
      "outputs": [
        {
          "output_type": "stream",
          "name": "stdout",
          "text": [
            "1995-03-03 00:00:00\n",
            "1995-09-03 00:00:00\n",
            "2021-07-21 00:00:00\n"
          ]
        }
      ]
    },
    {
      "cell_type": "code",
      "source": [
        "import datetime\n",
        "today = datetime.date.today()\n",
        "end_of_year = datetime.date(today.year,12,31)\n",
        "Number_of_days = (end_of_year - today).days\n",
        "print(f\"Number of until the end of the year: {Number_of_days}\")"
      ],
      "metadata": {
        "colab": {
          "base_uri": "https://localhost:8080/"
        },
        "id": "IbPTDdWl11-s",
        "outputId": "1aee8052-a3ef-49d6-8c00-6b64631bf628"
      },
      "execution_count": 56,
      "outputs": [
        {
          "output_type": "stream",
          "name": "stdout",
          "text": [
            "Number of until the end of the year: 163\n"
          ]
        }
      ]
    },
    {
      "cell_type": "code",
      "source": [
        "import datetime\n",
        "today = datetime.datetime.today()\n",
        "end_of_year = datetime.datetime(today.year,12,31)\n",
        "diff = (end_of_year - today)\n",
        "print(f\"Until the end of the year {diff}\")"
      ],
      "metadata": {
        "colab": {
          "base_uri": "https://localhost:8080/"
        },
        "id": "WWv9tt5n12AG",
        "outputId": "cdfddf37-d1d2-4b42-d5e2-8e3c24c5f9c6"
      },
      "execution_count": 57,
      "outputs": [
        {
          "output_type": "stream",
          "name": "stdout",
          "text": [
            "Until the end of the year 162 days, 12:37:47.760037\n"
          ]
        }
      ]
    },
    {
      "cell_type": "code",
      "source": [
        "import datetime\n",
        "\n",
        "now = datetime.datetime.now()\n",
        "end_of_year = datetime.datetime(now.year +1, 1 ,1)\n",
        "diff = end_of_year - now\n",
        "print(f'Until the end of the year: {diff}')"
      ],
      "metadata": {
        "colab": {
          "base_uri": "https://localhost:8080/"
        },
        "id": "p1c6im4n12EB",
        "outputId": "af1ff744-bcd4-4529-8b11-a36490ed4073"
      },
      "execution_count": 58,
      "outputs": [
        {
          "output_type": "stream",
          "name": "stdout",
          "text": [
            "Until the end of the year: 163 days, 12:37:47.744670\n"
          ]
        }
      ]
    },
    {
      "cell_type": "code",
      "source": [
        "import datetime\n",
        "\n",
        "dt = datetime.datetime(2020,1,1)\n",
        "\n",
        "print(dt + datetime.timedelta(days = 7))"
      ],
      "metadata": {
        "colab": {
          "base_uri": "https://localhost:8080/"
        },
        "id": "jfHJbE_z12G2",
        "outputId": "c406eb64-7d5a-473b-c722-45096d6f36b9"
      },
      "execution_count": 59,
      "outputs": [
        {
          "output_type": "stream",
          "name": "stdout",
          "text": [
            "2020-01-08 00:00:00\n"
          ]
        }
      ]
    },
    {
      "cell_type": "code",
      "source": [
        "dt = datetime.datetime(2020,1,1)\n",
        "\n",
        "print(dt + datetime.timedelta(days=30))\n",
        "print(dt + datetime.timedelta(hours =30))\n",
        "print(dt + datetime.timedelta(minutes= 15))"
      ],
      "metadata": {
        "colab": {
          "base_uri": "https://localhost:8080/"
        },
        "id": "OJtIb9waJuL2",
        "outputId": "2f75813f-a7c9-453e-f001-27c2ce304145"
      },
      "execution_count": 60,
      "outputs": [
        {
          "output_type": "stream",
          "name": "stdout",
          "text": [
            "2020-01-31 00:00:00\n",
            "2020-01-02 06:00:00\n",
            "2020-01-01 00:15:00\n"
          ]
        }
      ]
    },
    {
      "cell_type": "code",
      "source": [
        "import datetime\n",
        "\n",
        "dt = datetime.datetime(2020,1,1)\n",
        "delta = datetime.timedelta(hours = 8)\n",
        "\n",
        "dates = [dt + i * delta for i in range(12)]\n",
        "\n",
        "for date in dates:\n",
        "  print(date)"
      ],
      "metadata": {
        "colab": {
          "base_uri": "https://localhost:8080/"
        },
        "id": "LQ7NVUITJuc0",
        "outputId": "31a996b5-f603-4fe2-d407-3ecb0e970bfe"
      },
      "execution_count": 61,
      "outputs": [
        {
          "output_type": "stream",
          "name": "stdout",
          "text": [
            "2020-01-01 00:00:00\n",
            "2020-01-01 08:00:00\n",
            "2020-01-01 16:00:00\n",
            "2020-01-02 00:00:00\n",
            "2020-01-02 08:00:00\n",
            "2020-01-02 16:00:00\n",
            "2020-01-03 00:00:00\n",
            "2020-01-03 08:00:00\n",
            "2020-01-03 16:00:00\n",
            "2020-01-04 00:00:00\n",
            "2020-01-04 08:00:00\n",
            "2020-01-04 16:00:00\n"
          ]
        }
      ]
    },
    {
      "cell_type": "code",
      "source": [
        "import datetime\n",
        "\n",
        "rate = 0.04\n",
        "pv = 1000\n",
        "\n",
        "daily_rate = rate/365\n",
        "daily_rate"
      ],
      "metadata": {
        "colab": {
          "base_uri": "https://localhost:8080/"
        },
        "id": "2sqF7SCTVuIK",
        "outputId": "00d45b5a-d27d-4ca9-ffd0-9e92d9dc7932"
      },
      "execution_count": 62,
      "outputs": [
        {
          "output_type": "execute_result",
          "data": {
            "text/plain": [
              "0.00010958904109589041"
            ]
          },
          "metadata": {},
          "execution_count": 62
        }
      ]
    },
    {
      "cell_type": "code",
      "source": [
        "d1 = datetime.date(2021,7,1)\n",
        "d2 = datetime.date(2021,12,31)\n",
        "duration = d2-d1\n",
        "\n",
        "fv = pv * (1 + daily_rate)** duration.days\n",
        "print(f'future value: $ {fv:.2f}')"
      ],
      "metadata": {
        "colab": {
          "base_uri": "https://localhost:8080/"
        },
        "id": "gOWUE2PuWdHI",
        "outputId": "fbc59bfd-dc7c-400f-fffd-c2873b99aa93"
      },
      "execution_count": 63,
      "outputs": [
        {
          "output_type": "stream",
          "name": "stdout",
          "text": [
            "future value: $ 1020.26\n"
          ]
        }
      ]
    },
    {
      "cell_type": "code",
      "source": [
        "import os\n",
        "help(os.getcwd)"
      ],
      "metadata": {
        "id": "RCUnMkY0XCO-",
        "colab": {
          "base_uri": "https://localhost:8080/"
        },
        "outputId": "25088f15-321d-46f2-b3aa-e5e584b0f116"
      },
      "execution_count": 64,
      "outputs": [
        {
          "output_type": "stream",
          "name": "stdout",
          "text": [
            "Help on built-in function getcwd in module posix:\n",
            "\n",
            "getcwd()\n",
            "    Return a unicode string representing the current working directory.\n",
            "\n"
          ]
        }
      ]
    },
    {
      "cell_type": "code",
      "source": [
        "import os\n",
        "print(os.getcwd())"
      ],
      "metadata": {
        "colab": {
          "base_uri": "https://localhost:8080/"
        },
        "id": "8XZ3_M-Q2bca",
        "outputId": "4243af2a-32a9-443c-db71-a9db80a6b94e"
      },
      "execution_count": 65,
      "outputs": [
        {
          "output_type": "stream",
          "name": "stdout",
          "text": [
            "/content/images\n"
          ]
        }
      ]
    },
    {
      "cell_type": "code",
      "source": [
        "print(os.listdir())"
      ],
      "metadata": {
        "colab": {
          "base_uri": "https://localhost:8080/"
        },
        "id": "eZGDlRjR2bd_",
        "outputId": "74a78d41-cd7d-48f1-ab9a-1335e3533638"
      },
      "execution_count": 66,
      "outputs": [
        {
          "output_type": "stream",
          "name": "stdout",
          "text": [
            "[]\n"
          ]
        }
      ]
    },
    {
      "cell_type": "code",
      "source": [
        "import os\n",
        "\n",
        "names = sorted([name for name in os.listdir() if name.startswith('s')])\n",
        "\n",
        "print(names)\n"
      ],
      "metadata": {
        "colab": {
          "base_uri": "https://localhost:8080/"
        },
        "id": "3azZhz2A2biC",
        "outputId": "615aaad1-1c2a-4e5c-e4f9-6c27b0b32111"
      },
      "execution_count": 67,
      "outputs": [
        {
          "output_type": "stream",
          "name": "stdout",
          "text": [
            "[]\n"
          ]
        }
      ]
    },
    {
      "cell_type": "code",
      "source": [
        "import os\n",
        "\n",
        "os.mkdir('images')\n",
        "os.chdir('images')\n",
        "print(os.getcwd())"
      ],
      "metadata": {
        "colab": {
          "base_uri": "https://localhost:8080/"
        },
        "id": "4rYt8Xox2btL",
        "outputId": "b4c93f2f-11ea-48b1-eb45-3de6833add1e"
      },
      "execution_count": 69,
      "outputs": [
        {
          "output_type": "stream",
          "name": "stdout",
          "text": [
            "/content/images/images\n"
          ]
        }
      ]
    },
    {
      "cell_type": "code",
      "source": [
        ""
      ],
      "metadata": {
        "id": "pFlPG5Ys2d9S"
      },
      "execution_count": null,
      "outputs": []
    },
    {
      "cell_type": "code",
      "source": [
        ""
      ],
      "metadata": {
        "id": "xqElBqSv2eBZ"
      },
      "execution_count": null,
      "outputs": []
    },
    {
      "cell_type": "code",
      "source": [
        ""
      ],
      "metadata": {
        "id": "4WMFNxJN2eDS"
      },
      "execution_count": null,
      "outputs": []
    },
    {
      "cell_type": "code",
      "source": [
        ""
      ],
      "metadata": {
        "id": "J23SOXLU2eHf"
      },
      "execution_count": null,
      "outputs": []
    },
    {
      "cell_type": "code",
      "source": [
        ""
      ],
      "metadata": {
        "id": "xr3XZKXz2eI5"
      },
      "execution_count": null,
      "outputs": []
    },
    {
      "cell_type": "code",
      "source": [
        ""
      ],
      "metadata": {
        "id": "_w2k51Jt2eNr"
      },
      "execution_count": null,
      "outputs": []
    },
    {
      "cell_type": "code",
      "source": [
        ""
      ],
      "metadata": {
        "id": "ozuWSE2s2eQE"
      },
      "execution_count": null,
      "outputs": []
    }
  ]
}